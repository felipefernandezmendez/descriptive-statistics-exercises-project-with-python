{
    "cells": [
        {
            "cell_type": "markdown",
            "id": "ac622319",
            "metadata": {},
            "source": [
                "# Descriptive statistics problems"
            ]
        },
        {
            "cell_type": "markdown",
            "id": "aa8993e4",
            "metadata": {},
            "source": [
                "### Exercise 1"
            ]
        },
        {
            "cell_type": "markdown",
            "id": "5e0ab0d5",
            "metadata": {},
            "source": [
                "We will use Numpy to obtain information to describe statistically.\n",
                "\n",
                "- Generate an array of 100 elements following a normal distribution.\n",
                "- Generate an array of 100 elements following a chi-square distribution with 3 degrees of freedom.\n",
                "- Calculate the main metrics and statistical measures that best describe the two vectors."
            ]
        },
        {
            "cell_type": "code",
            "execution_count": 20,
            "id": "34720ab6",
            "metadata": {},
            "outputs": [
                {
                    "name": "stdout",
                    "output_type": "stream",
                    "text": [
                        "CHI CUADRADO: [ 1.31599663  1.11494964  1.6579367   3.34721914  2.19128139  3.20458149\n",
                        "  3.39302243  0.75883436  0.49882196  3.4281175   2.83840359  2.07758119\n",
                        "  0.66350678  0.95257408  3.93782321  6.87084956  0.97072846 11.00695108\n",
                        "  2.59038196  0.65354562  0.33769955  0.90398025  1.48192994  0.31438567\n",
                        "  9.17096879  1.89912174  2.26119526  6.38372493  2.98608444  1.32131928\n",
                        "  0.4249804   1.96324464  9.99310825  0.4747535   5.43839307  2.19464179\n",
                        "  1.10225298  3.93946068  1.33052341  5.85918932  0.07389307  0.21430086\n",
                        "  1.88049355  4.01003185  1.4186041   1.21099632  2.01747727  0.28207649\n",
                        "  2.49736972  1.39015938  2.46691338  1.7284592   3.53012891  1.889561\n",
                        "  3.07748513  5.6266549   1.09725874  8.06053558  2.96385989  2.77204101\n",
                        "  1.62798749  5.57877179  3.05505451  1.0547868   6.24920353  2.97960774\n",
                        "  0.33978809  0.48526379  0.6585512   1.85669533  3.00390703  3.52184059\n",
                        "  2.81456048  5.14018014  0.44777644  1.1957676  13.27177978  1.03587009\n",
                        "  8.25678079  1.49445395  0.98412654  1.23794788  0.67355419  4.17253638\n",
                        "  1.74975191  3.79775891  2.81362805  3.51396144  1.17181426  0.91735404\n",
                        "  1.90150833  5.15699493  0.9856171   1.94580384  3.37376534  1.0773731\n",
                        "  0.46206764  1.79683777  2.24999391  3.56480593]\n",
                        "DISTRIBUCION NORMAL: [-0.92580195  1.74449614 -0.9107063  -0.14036146 -0.69391162  0.39020142\n",
                        " -0.06669924  1.74223839  0.84884921 -2.18585986  0.64142705  0.41388067\n",
                        " -1.29000621 -0.62697176 -0.7183467  -0.11458812  1.06086928 -1.87339101\n",
                        " -0.91393117 -1.18857244 -1.16714277 -0.05304239  2.40418085 -0.62756906\n",
                        " -0.12161338  0.17237671  0.44298797  0.44687132 -1.50036398  0.22676868\n",
                        "  0.0187076  -0.80228678 -0.21888901  2.35144043  0.07991498 -0.99093865\n",
                        "  1.04859312 -0.49205564 -0.37736572  0.58230891 -0.17079961 -0.22428684\n",
                        "  1.24850375  0.79621443 -1.98791427 -1.63819672 -2.07672153  2.06475612\n",
                        "  0.61270963 -0.26420585  0.23780261  0.3069932  -0.13345414 -0.01989934\n",
                        " -0.01268077  0.36668902  0.94529065 -0.75256223  1.29820809  0.67265988\n",
                        " -0.49746388  2.18553578 -1.33515469  0.78281683 -1.28220579 -1.0886209\n",
                        "  0.25076448 -1.25180518 -0.07087108  1.5499601   0.7047453  -0.21519737\n",
                        " -0.25703257  0.5145609  -0.29614597  1.89376023 -0.05762669 -0.56207147\n",
                        "  1.67104075 -0.51354807  0.22298902  0.54179381  0.8357159  -0.44025374\n",
                        "  0.19994379  1.03753779  0.66717458  1.15744225  2.10357276  0.34034781\n",
                        "  1.26212034  0.284606   -0.48302335  0.1543412   0.47376126  0.50313396\n",
                        "  0.1784691   1.05483684 -0.19074989 -0.74525235]\n"
                    ]
                }
            ],
            "source": [
                "# TODO\n",
                "\n",
                "import numpy as np\n",
                "\n",
                "\n",
                "distribución_normal = np.random.normal(loc= 0, scale= 1, size=100)\n",
                "\n",
                "chi_cuadrado = np.random.chisquare(df= 3, size=100)\n",
                "\n",
                "print(f\"CHI CUADRADO: {chi_cuadrado}\")\n",
                "\n",
                "print(f\"DISTRIBUCION NORMAL: {distribución_normal}\")\n",
                "\n",
                "\n",
                "\n",
                "\n",
                "\n",
                "\n"
            ]
        },
        {
            "cell_type": "markdown",
            "id": "d5443ee3",
            "metadata": {},
            "source": [
                "Medidas de Tendencia Central: "
            ]
        },
        {
            "cell_type": "code",
            "execution_count": 3,
            "id": "c80df8d4",
            "metadata": {},
            "outputs": [
                {
                    "name": "stdout",
                    "output_type": "stream",
                    "text": [
                        "0.040143609375919743\n",
                        "3.038953265041488\n"
                    ]
                }
            ],
            "source": [
                "import statistics as stats\n",
                "\n",
                "\n",
                "print(stats.mean(distribución_normal))\n",
                "\n",
                "print(stats.mean(chi_cuadrado))"
            ]
        },
        {
            "cell_type": "code",
            "execution_count": 4,
            "id": "417aac40",
            "metadata": {},
            "outputs": [
                {
                    "name": "stdout",
                    "output_type": "stream",
                    "text": [
                        "0.11954100391888829\n",
                        "2.3478804907862036\n"
                    ]
                }
            ],
            "source": [
                "print(stats.median(distribución_normal))\n",
                "\n",
                "print(stats.median(chi_cuadrado))"
            ]
        },
        {
            "cell_type": "code",
            "execution_count": 5,
            "id": "94fe3285",
            "metadata": {},
            "outputs": [
                {
                    "name": "stdout",
                    "output_type": "stream",
                    "text": [
                        "1.4646836241529042\n",
                        "5.377212663280603\n"
                    ]
                }
            ],
            "source": [
                "print(stats.mode(distribución_normal))\n",
                "\n",
                "print(stats.mode(chi_cuadrado))"
            ]
        },
        {
            "cell_type": "markdown",
            "id": "3ad5956b",
            "metadata": {},
            "source": [
                "Medidas de Disperción: "
            ]
        },
        {
            "cell_type": "code",
            "execution_count": 6,
            "id": "2de1b170",
            "metadata": {},
            "outputs": [
                {
                    "name": "stdout",
                    "output_type": "stream",
                    "text": [
                        "Normal Range = 6.06122365181176\n",
                        "Chi Range = 14.647170526749342\n"
                    ]
                }
            ],
            "source": [
                "print(f\"Normal Range = {np.max(distribución_normal) - np.min(distribución_normal)}\")\n",
                "\n",
                "print(f\"Chi Range = {np.max(chi_cuadrado) - np.min(chi_cuadrado)}\")\n",
                "\n"
            ]
        },
        {
            "cell_type": "code",
            "execution_count": 7,
            "id": "841e4762",
            "metadata": {},
            "outputs": [
                {
                    "name": "stdout",
                    "output_type": "stream",
                    "text": [
                        "Normal Varianza = 1.0329607180892437\n",
                        "Chi Varianza = 6.143933927494972\n"
                    ]
                }
            ],
            "source": [
                "print(f\"Normal Varianza = {stats.variance(distribución_normal)}\")\n",
                "\n",
                "print(f\"Chi Varianza = {stats.variance(chi_cuadrado)}\")"
            ]
        },
        {
            "cell_type": "code",
            "execution_count": 8,
            "id": "9af6a6f0",
            "metadata": {},
            "outputs": [
                {
                    "name": "stdout",
                    "output_type": "stream",
                    "text": [
                        "Normal Distribución Estándar = 1.0163467509119335\n",
                        "Chi Distribución Estándar = 2.478696013531101\n"
                    ]
                }
            ],
            "source": [
                "print(f\"Normal Distribución Estándar = {stats.stdev(distribución_normal)}\")\n",
                "\n",
                "print(f\"Chi Distribución Estándar = {stats.stdev(chi_cuadrado)}\")\n"
            ]
        },
        {
            "cell_type": "markdown",
            "id": "4ec8c80f",
            "metadata": {},
            "source": [
                "Medidas de Posición:"
            ]
        },
        {
            "cell_type": "code",
            "execution_count": 9,
            "id": "e3d717fe",
            "metadata": {},
            "outputs": [
                {
                    "name": "stdout",
                    "output_type": "stream",
                    "text": [
                        "Percentiles Normales: \n",
                        "      Percentil 25 = -0.6227281987785205\n",
                        "      Percentil 50 = 0.11954100391888829\n",
                        "      Percentil 75 = 0.7510133040891445\n",
                        "Percentiles Chi: \n",
                        "      Percentil 25 = 1.278058863936256\n",
                        "      Percentil 50 = 2.3478804907862036\n",
                        "      Percentil 75 = 4.418947190794352\n"
                    ]
                }
            ],
            "source": [
                "percentiles = np.percentile(distribución_normal, [25, 50, 75])\n",
                "\n",
                "percentiles_chi = np.percentile(chi_cuadrado, [25, 50, 75])\n",
                "\n",
                "print(f\"\"\"Percentiles Normales: \n",
                "      Percentil 25 = {percentiles[0]}\n",
                "      Percentil 50 = {percentiles[1]}\n",
                "      Percentil 75 = {percentiles[2]}\"\"\")\n",
                "\n",
                "print(f\"\"\"Percentiles Chi: \n",
                "      Percentil 25 = {percentiles_chi[0]}\n",
                "      Percentil 50 = {percentiles_chi[1]}\n",
                "      Percentil 75 = {percentiles_chi[2]}\"\"\")"
            ]
        },
        {
            "cell_type": "markdown",
            "id": "411a89eb",
            "metadata": {},
            "source": [
                "Medidas de Forma: "
            ]
        },
        {
            "cell_type": "code",
            "execution_count": 10,
            "id": "7fcc777c",
            "metadata": {},
            "outputs": [
                {
                    "name": "stdout",
                    "output_type": "stream",
                    "text": [
                        "Skew Normal = -0.21975466548980785\n",
                        "Sccew Chi = 1.5649247196359015\n"
                    ]
                }
            ],
            "source": [
                "from scipy.stats import skew\n",
                "\n",
                "skew_normal = skew(distribución_normal)\n",
                "print (f\"Skew Normal = {skew_normal}\")\n",
                "\n",
                "skew_chi = skew(chi_cuadrado)\n",
                "print(f\"Sccew Chi = {skew_chi}\")"
            ]
        },
        {
            "cell_type": "code",
            "execution_count": 11,
            "id": "7f171709",
            "metadata": {},
            "outputs": [
                {
                    "name": "stdout",
                    "output_type": "stream",
                    "text": [
                        "Kurtosis Distribución Normal = 0.5105615437356157\n",
                        "kurtosis Chi = 3.859320059506687\n"
                    ]
                }
            ],
            "source": [
                "from scipy.stats import kurtosis\n",
                "\n",
                "kurt_normal = kurtosis(distribución_normal)\n",
                "print(f\"Kurtosis Distribución Normal = {kurt_normal}\")\n",
                "\n",
                "kurt_chi = kurtosis(chi_cuadrado)\n",
                "print(f\"kurtosis Chi = {kurt_chi}\")\n",
                "\n"
            ]
        },
        {
            "cell_type": "code",
            "execution_count": null,
            "id": "51acc788",
            "metadata": {},
            "outputs": [],
            "source": []
        },
        {
            "cell_type": "markdown",
            "id": "46c70c3d",
            "metadata": {},
            "source": [
                "### Exercise 2\n",
                "\n",
                "Write a Python program to calculate the standard deviation of the following data:\n",
                "\n",
                "```py\n",
                "data = [4, 2, 5, 8, 6]\n",
                "```"
            ]
        },
        {
            "cell_type": "code",
            "execution_count": 28,
            "id": "d590308e",
            "metadata": {},
            "outputs": [
                {
                    "data": {
                        "text/plain": [
                            "2.0"
                        ]
                    },
                    "execution_count": 28,
                    "metadata": {},
                    "output_type": "execute_result"
                }
            ],
            "source": [
                "# TODO\n",
                "\n",
                "data = [4,2,5,8,6]\n",
                "\n",
                "def des_estandar(data):\n",
                "    media = stats.mean(data)  # media del conjunto de datos\n",
                "    desviaciones = [] \n",
                "    for x in data:\n",
                "        res = x - media\n",
                "        desviaciones.append(res)\n",
                "                                     # Calcular las desviaciones de cada punto de datos respecto a la media\n",
                "    des_cuadrado = sum([x** 2 for x in desviaciones]) # Elevar al cuadrado cada desviación\n",
                "    resultado = np.sqrt(des_cuadrado / len(data)) #Calcular la raiz cuadrada de la media \n",
                "    \n",
                "    return resultado\n",
                "\n",
                "des_estandar(data)"
            ]
        }
    ],
    "metadata": {
        "interpreter": {
            "hash": "9248718ffe6ce6938b217e69dbcc175ea21f4c6b28a317e96c05334edae734bb"
        },
        "kernelspec": {
            "display_name": "Python 3.9.12 ('ML-BOOTCAMP')",
            "language": "python",
            "name": "python3"
        },
        "language_info": {
            "codemirror_mode": {
                "name": "ipython",
                "version": 3
            },
            "file_extension": ".py",
            "mimetype": "text/x-python",
            "name": "python",
            "nbconvert_exporter": "python",
            "pygments_lexer": "ipython3",
            "version": "3.11.4"
        }
    },
    "nbformat": 4,
    "nbformat_minor": 5
}

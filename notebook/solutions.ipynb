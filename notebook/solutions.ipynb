{
    "cells": [
        {
            "cell_type": "markdown",
            "id": "ac622319",
            "metadata": {},
            "source": [
                "# Descriptive statistics solutions"
            ]
        },
        {
            "cell_type": "markdown",
            "id": "aa8993e4",
            "metadata": {},
            "source": [
                "### Exercise 1"
            ]
        },
        {
            "cell_type": "code",
            "execution_count": 5,
            "id": "34720ab6",
            "metadata": {},
            "outputs": [
                {
                    "name": "stdout",
                    "output_type": "stream",
                    "text": [
                        "Normal vector: [-2.33155255  1.62707168 -0.16713232 -0.57068495 -0.78852332  1.54441908\n",
                        " -0.27782482  0.57620648 -1.56404644  0.67889837 -0.14065959  0.2461206\n",
                        " -0.40019264  0.29501945 -0.49119053  1.1759196   0.23537216  0.05909904\n",
                        " -0.91150038  0.15311019  0.39218603  1.19108372 -1.470549    3.07336444\n",
                        " -0.10958585  0.50954072  1.2773599   1.08091263 -2.1925064  -1.47235319\n",
                        "  1.37146732  0.34522312  1.16279853  1.51578244  2.72734341 -1.3748416\n",
                        "  0.24751876 -0.35660611 -1.06846568  0.33923203 -0.70717532  0.49353989\n",
                        " -1.56892604  0.94018838  0.38439596  0.32340789 -0.13552484 -0.10069811\n",
                        " -0.38225791  0.41836975  0.21630674 -3.45697549 -1.47130673  0.6363741\n",
                        "  0.24217466 -0.15411293 -2.06057666 -1.63126068 -0.21239041 -0.3602863\n",
                        " -0.55917332 -0.71375113  0.17624942 -2.26394158  0.67030442  0.58770487\n",
                        " -0.16965536  0.36407641 -1.51791699 -0.82299095 -1.8945158  -0.1259481\n",
                        " -0.4746725  -2.00879894 -0.05562965 -0.88343073  0.6111345  -0.02222726\n",
                        "  1.76762454  1.15893806 -0.08649906 -0.25603563  0.22372527 -0.34940834\n",
                        "  0.66978373  0.48422467 -0.11687883  0.20440716 -0.1550759   0.97838392\n",
                        " -0.66999342 -0.0377719   1.17726167  1.65951721 -0.65179558 -0.55799997\n",
                        " -0.5442811   0.61361751  0.62224329  0.03775741]\n",
                        "Chi-square vector: [ 6.39061564  0.54733261  6.29925722  0.66647114  2.58656013  2.7490063\n",
                        "  1.01604124  1.1730197   2.25383587  9.95561892  2.56451086  1.37463188\n",
                        "  5.97383948 11.11255835  2.23118148  0.18242197  2.47976789  5.81796012\n",
                        "  1.63330876  2.99317085  1.42930629  0.42073929  0.52281582  1.35121628\n",
                        "  0.86945858  1.8028193   6.26118031  8.54838531  0.34015906  0.71643709\n",
                        "  6.94142068  5.05421521  0.27513201  1.59183461  2.09493542  3.40654262\n",
                        "  1.86630147  3.49731999  3.38776807  3.50608924  3.22969416  0.19816518\n",
                        "  8.90884016  2.53433478  2.16718451  1.25519829  4.84992754  0.12105071\n",
                        "  6.77648807  1.58280485  1.58523477  1.64717957  3.61501472  0.42543395\n",
                        "  9.20052927  3.88592087  1.28576736  2.21081312  1.07964085  0.66644335\n",
                        "  0.4347566   1.95066055  4.75516166  2.96229545  5.18394209  4.45759859\n",
                        "  1.40322775  4.93095293  1.75932445  1.98928066  1.22750614  4.25713275\n",
                        "  0.33155615  4.04009095  1.87558103  2.94683271  1.65078587  4.08888332\n",
                        "  1.21488467  0.87483671  5.77726501  0.37320119  5.05350977  0.10501247\n",
                        "  6.50303499  2.59861632  1.28720854  3.71065467  0.76665405  0.69747723\n",
                        "  2.44723866  3.22032723  2.04730909  3.17888291  9.73173391  6.71520498\n",
                        "  1.85549221  1.99110016  0.50142262  3.99772594]\n"
                    ]
                }
            ],
            "source": [
                "import numpy as np\n",
                "\n",
                "\n",
                "\n",
                "normal = np.random.normal(size = 100)\n",
                "chi = np.random.chisquare(3, 100)\n",
                "\n",
                "print(f\"Normal vector: {normal}\")\n",
                "print(f\"Chi-square vector: {chi}\")"
            ]
        },
        {
            "cell_type": "markdown",
            "id": "d2216d1c",
            "metadata": {},
            "source": [
                "#### Measures of central tendency"
            ]
        },
        {
            "cell_type": "markdown",
            "id": "925b25e3",
            "metadata": {},
            "source": [
                "##### Mean"
            ]
        },
        {
            "cell_type": "code",
            "execution_count": 20,
            "id": "75ec280a",
            "metadata": {},
            "outputs": [
                {
                    "name": "stdout",
                    "output_type": "stream",
                    "text": [
                        "Normal mean: -0.10384651739409385\n",
                        "Chi mean: 2.9380795335328225\n"
                    ]
                }
            ],
            "source": [
                "import statistics as stats\n",
                "\n",
                "print(f\"Normal mean: {stats.mean(normal)}\")\n",
                "print(f\"Chi mean: {stats.mean(chi)}\")"
            ]
        },
        {
            "cell_type": "markdown",
            "id": "8017d3af",
            "metadata": {},
            "source": [
                "##### Median"
            ]
        },
        {
            "cell_type": "code",
            "execution_count": 21,
            "id": "d7644384",
            "metadata": {},
            "outputs": [
                {
                    "name": "stdout",
                    "output_type": "stream",
                    "text": [
                        "Normal median: -0.1269562917797126\n",
                        "Chi median: 2.4636148965577283\n"
                    ]
                }
            ],
            "source": [
                "print(f\"Normal median: {stats.median(normal)}\")\n",
                "print(f\"Chi median: {stats.median(chi)}\")"
            ]
        },
        {
            "cell_type": "markdown",
            "id": "0f274822",
            "metadata": {},
            "source": [
                "##### Mode\n",
                "\n",
                "In a continuous array, values are usually represented as intervals rather than distinct numbers. Thus, finding the mode is slightly different from how it's done in a discrete array. For continuous data, we typically find the \"modal class\" or the interval with the highgers frequency."
            ]
        },
        {
            "cell_type": "code",
            "execution_count": 22,
            "id": "3e8f1c6f",
            "metadata": {},
            "outputs": [
                {
                    "name": "stdout",
                    "output_type": "stream",
                    "text": [
                        "Normal mode: 0.4967141530112327\n",
                        "Chi mode: 0.4168513022813494\n"
                    ]
                }
            ],
            "source": [
                "print(f\"Normal mode: {stats.mode(normal)}\")\n",
                "print(f\"Chi mode: {stats.mode(chi)}\")"
            ]
        },
        {
            "cell_type": "markdown",
            "id": "358d39a7",
            "metadata": {},
            "source": [
                "#### Measures of dispersion"
            ]
        },
        {
            "cell_type": "markdown",
            "id": "303236c9",
            "metadata": {},
            "source": [
                "##### Range"
            ]
        },
        {
            "cell_type": "code",
            "execution_count": 23,
            "id": "2f31b2e1",
            "metadata": {},
            "outputs": [
                {
                    "name": "stdout",
                    "output_type": "stream",
                    "text": [
                        "Normal range: 4.472023288598682\n",
                        "Normal chi: 12.592089274962756\n"
                    ]
                }
            ],
            "source": [
                "range_normal = max(normal) - min(normal)\n",
                "range_chi = max(chi) - min(chi)\n",
                "print(f\"Normal range: {range_normal}\")\n",
                "print(f\"Normal chi: {range_chi}\")"
            ]
        },
        {
            "cell_type": "markdown",
            "id": "d919015c",
            "metadata": {},
            "source": [
                "##### Variance and standard deviation"
            ]
        },
        {
            "cell_type": "code",
            "execution_count": 24,
            "id": "a8b51d2f",
            "metadata": {},
            "outputs": [
                {
                    "name": "stdout",
                    "output_type": "stream",
                    "text": [
                        "Normal variance: 0.82476989363016 and std: 0.9081684280078007\n",
                        "Chi variance: 5.87576054587392 and std: 2.4239968122656266\n"
                    ]
                }
            ],
            "source": [
                "var_normal = stats.variance(normal)\n",
                "std_normal = stats.stdev(normal)\n",
                "var_chi = stats.variance(chi)\n",
                "std_chi = stats.stdev(chi)\n",
                "\n",
                "print(f\"Normal variance: {var_normal} and std: {std_normal}\")\n",
                "print(f\"Chi variance: {var_chi} and std: {std_chi}\")"
            ]
        },
        {
            "cell_type": "markdown",
            "id": "09c2ffe3",
            "metadata": {},
            "source": [
                "#### Shape measures\n",
                "\n",
                "##### Skewness"
            ]
        },
        {
            "cell_type": "code",
            "execution_count": 25,
            "id": "2b42a0af",
            "metadata": {},
            "outputs": [
                {
                    "name": "stdout",
                    "output_type": "stream",
                    "text": [
                        "Normal skewness: -0.17526772024433726\n",
                        "Chi skewness: 1.6683703423622345\n"
                    ]
                }
            ],
            "source": [
                "from scipy.stats import skew\n",
                "\n",
                "skew_normal = skew(normal)\n",
                "skew_chi = skew(chi)\n",
                "\n",
                "print(f\"Normal skewness: {skew_normal}\")\n",
                "print(f\"Chi skewness: {skew_chi}\")"
            ]
        },
        {
            "cell_type": "markdown",
            "id": "71b018ce",
            "metadata": {},
            "source": [
                "##### Kurtosis"
            ]
        },
        {
            "cell_type": "code",
            "execution_count": 26,
            "id": "968348dd",
            "metadata": {},
            "outputs": [
                {
                    "name": "stdout",
                    "output_type": "stream",
                    "text": [
                        "Normal kurtosis: -0.1554047077420817\n",
                        "Chi kurtosis: 3.620577909892315\n"
                    ]
                }
            ],
            "source": [
                "from scipy.stats import kurtosis\n",
                "\n",
                "kurt_normal = kurtosis(normal)\n",
                "kurt_chi = kurtosis(chi)\n",
                "\n",
                "print(f\"Normal kurtosis: {kurt_normal}\")\n",
                "print(f\"Chi kurtosis: {kurt_chi}\")"
            ]
        },
        {
            "cell_type": "markdown",
            "id": "8eb4a894",
            "metadata": {},
            "source": [
                "As can be seen, the statistics yield intrinsic values and characteristics for each distribution.\n",
                "\n",
                "- The vector following a normal distribution has a skewness that is equal to 0, indicating that the mean, median and mode coincide and are 0. On the other hand, the kurtosis is close to 0, so it follows a normal distribution with high accuracy.\n",
                "- The vector following a chi-square distribution has a skewness close to 1, with the largest amount of the data on the left, which coincides with the very definition of the distribution. This skewness reflects that the mean is larger than the mode and the median, thus characterizing the chi-square distribution."
            ]
        },
        {
            "cell_type": "markdown",
            "id": "46c70c3d",
            "metadata": {},
            "source": [
                "### Exercise 2"
            ]
        },
        {
            "cell_type": "code",
            "execution_count": 27,
            "id": "d590308e",
            "metadata": {},
            "outputs": [
                {
                    "name": "stdout",
                    "output_type": "stream",
                    "text": [
                        "Sample Data: [4, 2, 5, 8, 6]\n",
                        "Standard Deviation: 2.23606797749979\n"
                    ]
                }
            ],
            "source": [
                "import math\n",
                "import sys\n",
                "\n",
                "# Define the standard deviation function\n",
                "\n",
                "def sd_calc(data):\n",
                "    n = len(data)\n",
                "\n",
                "    if (n <= 1):\n",
                "        return 0.0\n",
                "\n",
                "    mean, sd = avg_calc(data), 0.0\n",
                "\n",
                "    for d in data:\n",
                "        sd += (float(d) - mean) ** 2\n",
                "    sd = math.sqrt(sd / float(n - 1))\n",
                "\n",
                "    return sd\n",
                "\n",
                "def avg_calc(data):\n",
                "    n, mean = len(data), 0.0\n",
                "\n",
                "    if (n <= 1):\n",
                "        return data[0]\n",
                "\n",
                "    for d in data:\n",
                "        mean = mean + float(d)\n",
                "\n",
                "    mean = mean / float(n)\n",
                "    return mean\n",
                "\n",
                "\n",
                "data = [4, 2, 5, 8, 6]\n",
                "print(f\"Sample Data: {data}\")\n",
                "print(f\"Standard Deviation: {sd_calc(data)}\")"
            ]
        }
    ],
    "metadata": {
        "interpreter": {
            "hash": "0f2f6c680cf484319d387fabac80ca4ff4fc33965036e02100b3fe02600f1423"
        },
        "kernelspec": {
            "display_name": "Python 3.10.1 64-bit",
            "language": "python",
            "name": "python3"
        },
        "language_info": {
            "codemirror_mode": {
                "name": "ipython",
                "version": 3
            },
            "file_extension": ".py",
            "mimetype": "text/x-python",
            "name": "python",
            "nbconvert_exporter": "python",
            "pygments_lexer": "ipython3",
            "version": "3.11.4"
        }
    },
    "nbformat": 4,
    "nbformat_minor": 5
}
